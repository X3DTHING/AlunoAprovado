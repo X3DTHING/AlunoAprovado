{
  "nbformat": 4,
  "nbformat_minor": 0,
  "metadata": {
    "colab": {
      "provenance": [],
      "authorship_tag": "ABX9TyN/d5FmlGMTSzcMLE0CseTZ",
      "include_colab_link": true
    },
    "kernelspec": {
      "name": "python3",
      "display_name": "Python 3"
    },
    "language_info": {
      "name": "python"
    }
  },
  "cells": [
    {
      "cell_type": "markdown",
      "metadata": {
        "id": "view-in-github",
        "colab_type": "text"
      },
      "source": [
        "<a href=\"https://colab.research.google.com/github/X3DTHING/AlunoAprovado/blob/main/AlunoAPRovadoipynb.ipynb\" target=\"_parent\"><img src=\"https://colab.research.google.com/assets/colab-badge.svg\" alt=\"Open In Colab\"/></a>"
      ]
    },
    {
      "cell_type": "code",
      "execution_count": 1,
      "metadata": {
        "colab": {
          "base_uri": "https://localhost:8080/"
        },
        "id": "HrMm2P75ZR7y",
        "outputId": "e276dabb-b3a2-48c6-acfc-c646aeec1d13"
      },
      "outputs": [
        {
          "output_type": "stream",
          "name": "stdout",
          "text": [
            "Digite a primeira nota: 8\n",
            "Digite a segunda nota: 7\n",
            "Digite a terceira nota: 6\n",
            "Digite a quarta nota: 9\n",
            "Digite a porcentagem de presença do aluno: 76\n",
            "Aluno aprovado!\n"
          ]
        }
      ],
      "source": [
        "# Solicita ao usuário que insira as notas\n",
        "nota1 = float(input(\"Digite a primeira nota: \"))\n",
        "nota2 = float(input(\"Digite a segunda nota: \"))\n",
        "nota3 = float(input(\"Digite a terceira nota: \"))\n",
        "nota4 = float(input(\"Digite a quarta nota: \"))\n",
        "\n",
        "# Calcula a média das notas\n",
        "media = (nota1 + nota2 + nota3 + nota4) / 4\n",
        "\n",
        "# Solicita ao usuário que insira a porcentagem de presença\n",
        "presenca = float(input(\"Digite a porcentagem de presença do aluno: \"))\n",
        "\n",
        "# Verifica se a média é maior ou igual a 7 e se a presença é maior ou igual a 75%\n",
        "if media >= 7 and presenca >= 75:\n",
        "    print(\"Aluno aprovado!\")\n",
        "else:\n",
        "    print(\"Aluno reprovado!\")\n"
      ]
    }
  ]
}